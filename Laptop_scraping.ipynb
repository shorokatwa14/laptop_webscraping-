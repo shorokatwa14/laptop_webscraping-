{
  "nbformat": 4,
  "nbformat_minor": 0,
  "metadata": {
    "colab": {
      "provenance": []
    },
    "kernelspec": {
      "name": "python3",
      "display_name": "Python 3"
    },
    "language_info": {
      "name": "python"
    }
  },
  "cells": [
    {
      "cell_type": "markdown",
      "source": [
        "### importing libraries ###"
      ],
      "metadata": {
        "id": "J-dpJA1eVEkS"
      }
    },
    {
      "cell_type": "code",
      "execution_count": 238,
      "metadata": {
        "id": "dyGqPQ1_OFdH"
      },
      "outputs": [],
      "source": [
        "import pandas as pd\n",
        "import requests\n",
        "from bs4 import BeautifulSoup as bs #for Scrapping\n",
        "from urllib.request import urlopen #for Connection (open )\n"
      ]
    },
    {
      "cell_type": "markdown",
      "source": [
        "import URL\n"
      ],
      "metadata": {
        "id": "rsraBuPGVTO1"
      }
    },
    {
      "cell_type": "code",
      "source": [
        "url =\"https://2b.com.eg/en/computers/laptops.html\""
      ],
      "metadata": {
        "id": "cSdGxiTzOYgF"
      },
      "execution_count": 239,
      "outputs": []
    },
    {
      "cell_type": "markdown",
      "source": [
        "**Create a client - based request to get the request**"
      ],
      "metadata": {
        "id": "dTfbVeF2VYT9"
      }
    },
    {
      "cell_type": "code",
      "source": [
        "client = urlopen(url)\n"
      ],
      "metadata": {
        "id": "beQYFkQcOYpO"
      },
      "execution_count": 240,
      "outputs": []
    },
    {
      "cell_type": "markdown",
      "source": [
        "**Getting HTML code of the full website**"
      ],
      "metadata": {
        "id": "OeM2bM1sVbPc"
      }
    },
    {
      "cell_type": "code",
      "source": [
        "page = client.read() #to read html code\n"
      ],
      "metadata": {
        "id": "-xMoos0gOYtb"
      },
      "execution_count": 241,
      "outputs": []
    },
    {
      "cell_type": "code",
      "source": [
        "client.close () #for closing html code\n"
      ],
      "metadata": {
        "id": "FbHEYW22OYwP"
      },
      "execution_count": 242,
      "outputs": []
    },
    {
      "cell_type": "markdown",
      "source": [
        "**Creating an HTML parser using bs.soup**"
      ],
      "metadata": {
        "id": "aWbL3IIfVfUR"
      }
    },
    {
      "cell_type": "code",
      "source": [
        "soup = bs (page,\"html\") # kind of parser = html\n",
        "#soup is container"
      ],
      "metadata": {
        "id": "B3Spg_jrPyO2"
      },
      "execution_count": 243,
      "outputs": []
    },
    {
      "cell_type": "markdown",
      "source": [
        "**Creating a container For target Data**"
      ],
      "metadata": {
        "id": "Qpjhc3N-Vi1A"
      }
    },
    {
      "cell_type": "code",
      "source": [
        "container = soup.find_all ('div',{'class':\"product details product-item-details\"})\n"
      ],
      "metadata": {
        "id": "wH8q4E2MPyRn"
      },
      "execution_count": 244,
      "outputs": []
    },
    {
      "cell_type": "code",
      "source": [
        "container[0].text\n"
      ],
      "metadata": {
        "colab": {
          "base_uri": "https://localhost:8080/",
          "height": 89
        },
        "id": "sn3XZPRxQOAr",
        "outputId": "57993e8c-ab74-43e1-ecfe-79e59aae5505"
      },
      "execution_count": 245,
      "outputs": [
        {
          "output_type": "execute_result",
          "data": {
            "text/plain": [
              "'\\n\\n\\r\\n                                MSI GF63 Thin 10UD Intel® Core™ i7-10750H -16GB -1TB+256GBSSD - NVIDIA®\\xa0GeForce\\xa0RTX™\\xa03050TI 4GB -15.6\" FHD- Win10 - Black                            \\n\\n\\n\\nRating:\\n\\n0%\\n\\n\\n\\n\\n\\n\\nwas\\nEGP35,983.00\\n\\n\\n\\n\\nSpecial Price\\nEGP31,199.00\\n\\n\\n \\n\\n\\n\\n\\n\\nAdd to Wish List\\n\\n\\n\\n\\n\\n \\nAdd to Cart\\n\\n\\n\\n\\nAdd to Compare\\n\\n\\n\\n'"
            ],
            "application/vnd.google.colaboratory.intrinsic+json": {
              "type": "string"
            }
          },
          "metadata": {},
          "execution_count": 245
        }
      ]
    },
    {
      "cell_type": "code",
      "source": [
        "len (container)\n"
      ],
      "metadata": {
        "colab": {
          "base_uri": "https://localhost:8080/"
        },
        "id": "atZMqCDcQOFR",
        "outputId": "01780633-98c5-4228-c95f-f0b1023c1aee"
      },
      "execution_count": 246,
      "outputs": [
        {
          "output_type": "execute_result",
          "data": {
            "text/plain": [
              "48"
            ]
          },
          "metadata": {},
          "execution_count": 246
        }
      ]
    },
    {
      "cell_type": "markdown",
      "source": [
        "**Extracting product type and price details**"
      ],
      "metadata": {
        "id": "ZfuYWjDOV4LP"
      }
    },
    {
      "cell_type": "code",
      "source": [
        "item_name = soup.find_all ('a',{'class':'product-item-link'})\n"
      ],
      "metadata": {
        "id": "zxT5PxdCQOJ6"
      },
      "execution_count": 247,
      "outputs": []
    },
    {
      "cell_type": "code",
      "source": [
        "item_name [0].text.strip()\n"
      ],
      "metadata": {
        "colab": {
          "base_uri": "https://localhost:8080/",
          "height": 54
        },
        "id": "xfaagnQIPyUf",
        "outputId": "f7cdcf37-3612-461f-d8f2-a365ea04b868"
      },
      "execution_count": 248,
      "outputs": [
        {
          "output_type": "execute_result",
          "data": {
            "text/plain": [
              "'MSI GF63 Thin 10UD Intel® Core™ i7-10750H -16GB -1TB+256GBSSD - NVIDIA®\\xa0GeForce\\xa0RTX™\\xa03050TI 4GB -15.6\" FHD- Win10 - Black'"
            ],
            "application/vnd.google.colaboratory.intrinsic+json": {
              "type": "string"
            }
          },
          "metadata": {},
          "execution_count": 248
        }
      ]
    },
    {
      "cell_type": "code",
      "source": [
        "item_rating = soup.find_all ('div',{'class':'rating-result'})\n"
      ],
      "metadata": {
        "id": "RBhzumozPyWv"
      },
      "execution_count": 249,
      "outputs": []
    },
    {
      "cell_type": "code",
      "source": [
        "item_rating[0].text.strip()\n"
      ],
      "metadata": {
        "colab": {
          "base_uri": "https://localhost:8080/",
          "height": 37
        },
        "id": "yIlt9000PydO",
        "outputId": "f89341f9-e57d-47b5-b041-b791d676ceb5"
      },
      "execution_count": 250,
      "outputs": [
        {
          "output_type": "execute_result",
          "data": {
            "text/plain": [
              "'0%'"
            ],
            "application/vnd.google.colaboratory.intrinsic+json": {
              "type": "string"
            }
          },
          "metadata": {},
          "execution_count": 250
        }
      ]
    },
    {
      "cell_type": "code",
      "source": [
        "item_priceO = soup.find_all('span',{'class':'old-price'})\n"
      ],
      "metadata": {
        "id": "Mt67XE6DQpTP"
      },
      "execution_count": 251,
      "outputs": []
    },
    {
      "cell_type": "code",
      "source": [
        "item_priceS = soup.find_all('span',{'class':'special-price'})\n"
      ],
      "metadata": {
        "id": "MmqVA5xMlnrx"
      },
      "execution_count": 252,
      "outputs": []
    },
    {
      "cell_type": "code",
      "source": [
        "item_priceO[0].text\n"
      ],
      "metadata": {
        "colab": {
          "base_uri": "https://localhost:8080/",
          "height": 37
        },
        "id": "a-tU7eH_QpWq",
        "outputId": "f4f7900e-9e14-4fea-e85c-c01e008526ab"
      },
      "execution_count": 253,
      "outputs": [
        {
          "output_type": "execute_result",
          "data": {
            "text/plain": [
              "'\\n\\nwas\\nEGP35,983.00\\n\\n'"
            ],
            "application/vnd.google.colaboratory.intrinsic+json": {
              "type": "string"
            }
          },
          "metadata": {},
          "execution_count": 253
        }
      ]
    },
    {
      "cell_type": "markdown",
      "source": [
        "**compination**"
      ],
      "metadata": {
        "id": "2RIrOb3oQwrg"
      }
    },
    {
      "cell_type": "code",
      "source": [
        "file = open (\"laptop_2b.csv\",\"w\")\n",
        "header = 'item_name,item_rating,item_price \\n'\n",
        "file.write(header)"
      ],
      "metadata": {
        "colab": {
          "base_uri": "https://localhost:8080/"
        },
        "id": "IHBIGv9vQpZU",
        "outputId": "5542d688-01d0-44d7-fc44-e368c5b96072"
      },
      "execution_count": 254,
      "outputs": [
        {
          "output_type": "execute_result",
          "data": {
            "text/plain": [
              "34"
            ]
          },
          "metadata": {},
          "execution_count": 254
        }
      ]
    },
    {
      "cell_type": "code",
      "source": [
        "##for looping multible pages\n",
        "for j in range (1,2) :\n",
        "    url= f'https://2b.com.eg/en/computers/laptops.html?p={j}' #f= format\n",
        "    res=requests.get(url)\n",
        "    soup=bs(res.text)\n",
        "    container = soup.find_all ('div',{'class':\"product details product-item-details\"})\n",
        "    for i in container :\n",
        "        item_name = i.find_all ('a',{'class':'product-item-link'})\n",
        "        item_name =item_name [0].text.strip()\n",
        "        item_rating = i.find_all ('div',{'class':'rating-result'})\n",
        "        item_rating = item_rating[0].text.strip()\n",
        "        item_price = i.find_all('div',{'class':'price-box'})\n",
        "        item_price =item_price[0].text.strip().replace (\"\\n\",\" \").replace(\",\",\"\")\n",
        "        file.write(item_name+\" , \"+item_rating+\" , \"+item_price +\"\\n\")\n",
        "        print(item_name+\" , \"+item_rating+\" , \"+item_price)\n",
        "        print( )"
      ],
      "metadata": {
        "colab": {
          "base_uri": "https://localhost:8080/"
        },
        "id": "2nGs3YxPRV4l",
        "outputId": "3289e3ed-92aa-4419-c820-d67054e261e2"
      },
      "execution_count": 255,
      "outputs": [
        {
          "output_type": "stream",
          "name": "stdout",
          "text": [
            "MSI GF63 Thin 10UD Intel® Core™ i7-10750H -16GB -1TB+256GBSSD - NVIDIA® GeForce RTX™ 3050TI 4GB -15.6\" FHD- Win10 - Black , 0% , was EGP35983.00     Special Price EGP31199.00\n",
            "\n",
            "Dell G5-5500 - Intel® Core™ i7 -10750H - 16GB - 512 SSD - NVIDIA® GeForce® GTX 1660 Ti 6GB GDDR6 - 15.6\"FHD - Win10 - Black , 0% , was EGP40299.00     Special Price EGP35799.00\n",
            "\n",
            "MSI Modern 14 - Intel® Core™™ i7-1195G7 - 8GB - 512GB SSD - Intel® UHD Integrated Graphics - 14\"FHD - Win11 - Carbon Gray , 0% , was EGP26599.00     Special Price EGP20999.00\n",
            "\n",
            "MSI GF63 - Intel® Core™ i7-11800H - 16GB - 1TB+256GB SSD - NVIDIA® GeForce RTX™ 3050 4GB - 15.6\"FHD - Win11 - Black , 0% , was EGP41399.00     Special Price EGP32499.00\n",
            "\n",
            "MSI Katana GF66 - Intel® Core™ i7-12700H - 16GB - 1TB SSD - NVIDIA® GeForce RTX™ 3070 8GB - 15.6\"FHD - Win11 - Black , 0% , was EGP67499.00     Special Price EGP54499.00\n",
            "\n",
            "HP EliteBook 840 G8 - Intel® Core™ i7-1165G7 - 16 GB - 512GB SSD -  Intel® Iris® Xᵉ Graphics - 14” FHD - Windows 11 Pro - Silver , 0% , was EGP55999.00     Special Price EGP51999.00\n",
            "\n",
            "Asus TUF Gaming FX517ZC-HN002W Intel® Core™  i7-12650H - 16GB - 512GB SSD -NVIDIA® GeForce RTX™ 3050 - 15.6\" FHD - Win11 - Black , 0% , was EGP47999.00     Special Price EGP39999.00\n",
            "\n",
            "Asus Zenbook S13 OLED UX5304 - Intel® Core™ i7-1355U - 16GB - 1TB SSD - Intel® Iris Xe - 13.3” - OLED - Win11 - Black , 0% , was EGP59999.00     Special Price EGP52999.00\n",
            "\n",
            "Asus Vivobook 15 X1502ZA-BQ007W Intel® Core™ i7-1255U - 8GB - 512GB SSD - Intel® Iris Xe Graphics - 15.6\" FHD - Win11 - Quiet Blue , 0% , was EGP30199.00     Special Price EGP25699.00\n",
            "\n",
            "Asus Vivobook Flip 14 TP470EA-EC007W Intel® Core™ i7-1165G7- 8GB - 512GB SSD - Intel® Iris Xe Graphics - 14\" FHD - Win11 - Black , 0% , was EGP32199.00     Special Price EGP28999.00\n",
            "\n",
            "Asus TUF Dash F15 FX517ZR - F15173070 Intel® Core™™ i7-12650H - 16GB - 512GB SSD - NVIDIA® GeForce RTX™3070 8GB - 15.6\"FHD - Win11 - Black , 0% , was EGP56599.00     Special Price EGP50999.00\n",
            "\n",
            "MSI GF63 Thin 11UC Intel® Core™ i5-11400H - 8GB - 1TB+256GB SSD - NVIDIA® GeForce RTX™ 3050 4GB - 15.6\" FHD - Black , 0% , was EGP34199.00     Special Price EGP27649.00\n",
            "\n",
            "MSI GF63 Thin 10UC Intel® Core™ i5-10500H - 8GB - 256GB+ 1TB SSD - NVIDIA® GeForce RTX™RTX3050 4GB - 15.6\" FHD - Black , 0% , was EGP29919.00     Special Price EGP25999.00\n",
            "\n",
            "MSI GF63 Thin 10UC Intel® Core™ i7-10750H - 16GB - 256GB+1TB SSD - NVIDIA® GeForce RTX™RTX3050 4GB - 15.6\" FHD - Win 10 - Black , 0% , was EGP33299.00     Special Price EGP29999.00\n",
            "\n",
            "ASUS Vivobook 16 X1605VA-MB007W - Intel® Core™ i7-13700H - 8GB - 512GB SSD - Intel® UHD Graphics - 16.0 '' WUXGA  - Win 11 , 0% , was EGP34399.00     Special Price EGP30999.00\n",
            "\n",
            "ASUS Vivobook 16 X1605VA-MB005W Intel® Core™i5-13500H - 8GB - 512GB SSD - Intel® UHD Graphics - 16.0 '' WUXGA - Win 11 , 0% , was EGP28899.00     Special Price EGP25999.00\n",
            "\n",
            "ASUS Vivobook 16 X1605ZA-MB007W Intel® Core™ i7-1255U - 8GB - 512GB SSD - Intel® UHD Graphics - 16.0 '' - Win 11 , 0% , was EGP29999.00     Special Price EGP26999.00\n",
            "\n",
            "ASUS Vivobook Go 15 OLED E1504FA-OLED005W -  AMD RyzenR5-7520U - 8GB - 512GB -  AMD Radeon™ Graphics - 15.6'' FHD OLED - Win 11 - Green Grey , 0% , was EGP27299.00     Special Price EGP24599.00\n",
            "\n",
            "ASUS TUF Gaming F15 FX507ZU4-LP007W -  Intel® Core™ i7-12700H - 16GB - 512GB SSD - RTX 4050 - 15.6'' FHD - WIN11 - Jaeger Gray , 0% , was EGP55499.00     Special Price EGP49999.00\n",
            "\n",
            "ASUS TUF Gaming F15 FX507ZC4-HN002W Intel® Core™i7-12700H - 16GB - 512GB SSD -:NVIDIA® GeForce RTX 3050 - 15.6'' FHD - Win 11 - Mecha Gray , 0% , was EGP45499.00     Special Price EGP40999.00\n",
            "\n",
            "ASUS ZenBook Flip 13 UX363EA-OLED007W -  Intel® Core® i7-1165G7 FHD OLED - 16GB - TB SSD - Intel Iris Xᵉ - 13.3'\" - Win 11 - Pine Grey , 0% , was EGP42199.00     Special Price EGP37999.00\n",
            "\n",
            "ASUS ZenBook DUO UX482EGR-HY007W - Intel® Core® i7-1195G7 -16GB  - 1TB SSD - Intel Iris Xᵉ - 14.0'' FHD - Win11 , 0% , was EGP49899.00     Special Price EGP44999.00\n",
            "\n",
            "HP Pavilion 14 Intel® Core™ i7-1255U - 16GB - 1TB SSD - NVIDIA® GeForce® MX550 2GB - 14\" FHD - Win11 - Silver , 0% , was EGP35999.00     Special Price EGP32399.00\n",
            "\n",
            "HP Pavilion 14 Intel® Core™ i5-1235U - 8GB - 512GB SSD - NVIDIA® GeForce® MX550 2GB - 14\" FHD - Win11 - Silver , 0% , was EGP28599.00     Special Price EGP25799.00\n",
            "\n",
            "HP Pavilion 15 Intel® Core™ i7 1255U - 16GB - 1TB SSD - NVIDIA® GeForce® MX550 2GB - 15.6\" FHD - Win11 - Silver , 0% , was EGP37399.00     Special Price EGP33699.00\n",
            "\n",
            "Lenovo ThinkPad E14 - Intel® Core™ i5-1235U - 8GB - 512GB SSD - NVIDIA® GeForce MX550 2GB - 14\" FHD - Black , 0% , was EGP40999.00     Special Price EGP36999.00\n",
            "\n",
            "Itel Spirit 2 - Intel® Core™i5-1155G7- 8GB - 512GB SSD - Intel HD Graphics - 15.6\"FHD - Win11 - Grey , 0% , was EGP13999.00     Special Price EGP12999.00\n",
            "\n",
            "Asus TUF Gaming FX517ZM-HN007W - Intel® Core™ i7-12650H - 16GB - 512GB SSD - NVIDIA® GeForce RTX™ 3060 6GB - 15.6\" FHD - Win11 - Black , 0% , was EGP54399.00     Special Price EGP48999.00\n",
            "\n",
            "Asus X543MA-GQ001W - Intel® Celeron N4020 - 4GB - 1TB - Intel® HD Graphics - 15.6\" HD - Win11 - Natural Silver , 0% , was EGP8299.00     Special Price EGP7499.00\n",
            "\n",
            "HP Probook 450 G9 - Intel® Core™ i5-1235U - 8GB - 512GB SSD - Intel® Iris® Xᵉ Graphics - 15.6\" FHD - Silver Aluminum , 0% , was EGP31999.00     Special Price EGP27999.00\n",
            "\n",
            "Lenovo ThinkPad E14 - Intel® Core™ i5-1235U - 8GB - 512GB SSD - NVIDIA® GeForce MX550 2GB - 14\" FHD - Black , 0% , was EGP40999.00     Special Price EGP33999.00\n",
            "\n",
            "Dell Latitude 3520 - Intel® Core™ i5-1135G7 - 8GB - 256GB SSD - Intel Iris Graphics - 15.6\" HD - Grey , 0% , was EGP34999.00     Special Price EGP32499.00\n",
            "\n",
            "Lenovo Gaming 3 - Intel® Core™ i5-12500H - 8GB - 512GB SSD - NVIDIA® GeForce RTX™ 3050 4GB - 15.6\" FHD - Win 11 - Grey , 0% , was EGP37999.00     Special Price EGP33999.00\n",
            "\n",
            "Lenovo ThinkPad E15 - Intel® Core™ i5-1235U - 8GB - 512GB SSD - NVIDIA® GeForce MX550 2GB - 15.6\" FHD - Black , 0% , was EGP39999.00     Special Price EGP33999.00\n",
            "\n",
            "HP ProBook 450 G9 - Intel® Core™ i7-1255U - 8GB - 512GB SSD - NVIDIA GeForce MX570 - 15.6\" HD - Silver Aluminum , 0% , was EGP35999.00     Special Price EGP33999.00\n",
            "\n",
            "Lenovo ThinkPad E15 - Intel® Core™ i7-1255U - 8GB - 512GB SSD - NVIDIA® GeForce MX550 2GB - 15.6\" FHD - Black , 0% , was EGP42999.00     Special Price EGP41499.00\n",
            "\n",
            "HP ProBook 450 G8 -  Intel® Core™ i7-1165G7 - 8GB - 512GB SSD - Intel® Iris® Xᵉ Graphics - 15.6\" FHD - Sliver , 0% , was EGP33999.00     Special Price EGP32799.00\n",
            "\n",
            "Dell Latitude 3420 - Intel® Core™ i5-1135G7 - 8GB - 256GB SSD - Intel Iris Graphics - 14\" HD - Grey , 0% , was EGP34999.00     Special Price EGP32999.00\n",
            "\n",
            "HP Victus 15-fa0087ne - Intel® Core™ i5-12500H - 8GB - 1TB SSD - NVIDIA® GeForce® GTX 1650 4GB - 15.6\" FHD - Win11 - Performance Blue , 0% , was EGP35399.00     Special Price EGP29899.00\n",
            "\n",
            "HP Victus 15-fa0088ne - Intel® Core™ i5-12500H - 8GB - 1TB SSD - NVIDIA® GeForce® GTX 1650 4GB - 15.6\" FHD - Win11 - Mica Silver , 0% , was EGP35399.00     Special Price EGP29899.00\n",
            "\n",
            "HP Victus 15-fa0089ne - Intel® Core™ i5-12500H - 8GB - 1TB SSD - NVIDIA® GeForce® GTX 1650 4GB - 15.6\" FHD - Win11 - Ceramic White , 0% , was EGP35399.00     Special Price EGP28999.00\n",
            "\n",
            "Asus X515EP-EJ005W - Intel® Core™i5-1135G7 - 8GB - 512GB SSD - NVIDIA® GeForce® MX330 2GB - 15.6\" FHD - Win11 - Transparent Silver , 0% , was EGP24399.00     Special Price EGP18999.00\n",
            "\n",
            "Asus X515EP-EJ007W - Intel® Core™i7-1165G7 - 8GB - 512GB SSD - NVIDIA® GeForce® MX330 2GB - 15.6\" FHD - Win11 - Transparent Silver , 0% , was EGP29999.00     Special Price EGP23999.00\n",
            "\n",
            "Asus Zenbook 14 OLED UX3402ZA-OLED005W - Intel® Core™i5-1240P - 8GB - 512GB SSD - Intel Iris Xᵉ - 14\" OLED - Win11 - Ponder Blue , 0% , was EGP42699.00     Special Price EGP38499.00\n",
            "\n",
            "Huawei Matebook D15 - Intel® Core™ i3-1135G4 - 8GB - 256GB SSD -Intel® UHD Graphics - 15.6\"FHD - Win11 - Mystic Silver , 0% , was EGP20199.00     Special Price EGP17999.00\n",
            "\n",
            "Asus ROG Strix Scar 17 G733ZW-KH162W - Intel® Core™ i9-12900H - 32GB - 2TB SSD - NVIDIA® GeForce RTX™ 3070 Ti 8GB - 17.3\" FHD - Win11 - Black , 0% , was EGP105399.00     Special Price EGP94999.00\n",
            "\n",
            "MSI GF63 Thin 10SC-808XEG - Intel® Core™ I5-10500H - 8GB - 1TB+256GB SSD - NVIDIA® GeForce® GTX® 1650 4GB - 15.6\"FHD - Black , 0% , was EGP28299.00     Special Price EGP22999.00\n",
            "\n",
            "Lenovo IdeaPad 5 15ITL05 - Intel® Core™ i7-1165G7 - 8GB - 512 SSD - Intel Iris Xe Graphics - 15.6\"FHD - Graphite Grey , 0% , was EGP25699.00     Special Price EGP21999.00\n",
            "\n"
          ]
        }
      ]
    },
    {
      "cell_type": "code",
      "source": [
        "file.close()"
      ],
      "metadata": {
        "id": "3QGkvNjzcQCB"
      },
      "execution_count": 256,
      "outputs": []
    }
  ]
}